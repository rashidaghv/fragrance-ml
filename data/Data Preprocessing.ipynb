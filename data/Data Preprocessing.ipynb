{
 "cells": [
  {
   "cell_type": "code",
   "execution_count": 17,
   "id": "initial_id",
   "metadata": {
    "collapsed": true,
    "ExecuteTime": {
     "end_time": "2024-06-13T15:21:39.669473Z",
     "start_time": "2024-06-13T15:21:39.611680500Z"
    }
   },
   "outputs": [],
   "source": [
    "import pandas as pd\n",
    "import ast"
   ]
  },
  {
   "cell_type": "code",
   "execution_count": 18,
   "outputs": [],
   "source": [
    "df = pd.read_csv(\"perfume_data_final.csv\")"
   ],
   "metadata": {
    "collapsed": false,
    "ExecuteTime": {
     "end_time": "2024-06-13T15:21:39.760212200Z",
     "start_time": "2024-06-13T15:21:39.625647Z"
    }
   },
   "id": "acc648b4123d1119"
  },
  {
   "cell_type": "code",
   "execution_count": 19,
   "outputs": [
    {
     "data": {
      "text/plain": "(478, 13)"
     },
     "execution_count": 19,
     "metadata": {},
     "output_type": "execute_result"
    }
   ],
   "source": [
    "df.shape"
   ],
   "metadata": {
    "collapsed": false,
    "ExecuteTime": {
     "end_time": "2024-06-13T15:21:39.770186200Z",
     "start_time": "2024-06-13T15:21:39.645589800Z"
    }
   },
   "id": "52a6b90ccc667099"
  },
  {
   "cell_type": "markdown",
   "source": [
    "## Notes Preprocessing"
   ],
   "metadata": {
    "collapsed": false
   },
   "id": "5ca1493545c42807"
  },
  {
   "cell_type": "code",
   "execution_count": 20,
   "outputs": [],
   "source": [
    "def convert_to_list(string):\n",
    "    try:\n",
    "        return ast.literal_eval(string)\n",
    "    except (ValueError, SyntaxError):\n",
    "        return []"
   ],
   "metadata": {
    "collapsed": false,
    "ExecuteTime": {
     "end_time": "2024-06-13T15:21:39.771183900Z",
     "start_time": "2024-06-13T15:21:39.654495Z"
    }
   },
   "id": "46e21a12e515a645"
  },
  {
   "cell_type": "code",
   "execution_count": 21,
   "outputs": [],
   "source": [
    "# Convert the note columns to lists\n",
    "df['top notes'] = df['top notes'].apply(convert_to_list)\n",
    "df['middle notes'] = df['middle notes'].apply(convert_to_list)\n",
    "df['base notes'] = df['base notes'].apply(convert_to_list)\n"
   ],
   "metadata": {
    "collapsed": false,
    "ExecuteTime": {
     "end_time": "2024-06-13T15:21:39.794915Z",
     "start_time": "2024-06-13T15:21:39.659481800Z"
    }
   },
   "id": "b9df0e8d8aca1a1c"
  },
  {
   "cell_type": "code",
   "execution_count": 22,
   "outputs": [],
   "source": [
    "# Get a list of all unique notes\n",
    "all_notes = set()\n",
    "for column in ['top notes', 'middle notes', 'base notes']:\n",
    "    for notes_list in df[column]:\n",
    "        all_notes.update(notes_list)\n",
    "        "
   ],
   "metadata": {
    "collapsed": false,
    "ExecuteTime": {
     "end_time": "2024-06-13T15:21:39.795912200Z",
     "start_time": "2024-06-13T15:21:39.683231200Z"
    }
   },
   "id": "7ebdc0698072ff81"
  },
  {
   "cell_type": "code",
   "execution_count": 23,
   "outputs": [
    {
     "name": "stdout",
     "output_type": "stream",
     "text": [
      "(478, 491)\n"
     ]
    }
   ],
   "source": [
    "# Create a column for each unique note and fill with 0\n",
    "note_columns = pd.DataFrame(0, index=df.index, columns=list(all_notes))\n",
    "print(note_columns.shape)"
   ],
   "metadata": {
    "collapsed": false,
    "ExecuteTime": {
     "end_time": "2024-06-13T15:21:39.795912200Z",
     "start_time": "2024-06-13T15:21:39.693685600Z"
    }
   },
   "id": "a7bda85a84fc3f3e"
  },
  {
   "cell_type": "code",
   "execution_count": 25,
   "outputs": [],
   "source": [
    "# Fill the columns with 1 where the note is present\n",
    "for column in ['top notes', 'middle notes', 'base notes']:\n",
    "    for i, notes_list in enumerate(df[column]):\n",
    "        for note in notes_list:\n",
    "            note_columns.at[i, note] = 1"
   ],
   "metadata": {
    "collapsed": false,
    "ExecuteTime": {
     "end_time": "2024-06-13T15:21:49.831115200Z",
     "start_time": "2024-06-13T15:21:49.754415600Z"
    }
   },
   "id": "9fd1975490932e58"
  },
  {
   "cell_type": "code",
   "execution_count": 26,
   "outputs": [],
   "source": [
    "# Concatenate the original DataFrame with the new one-hot encoded columns\n",
    "df_combined = pd.concat([df.drop(columns=['top notes', 'middle notes', 'base notes']), note_columns], axis=1)"
   ],
   "metadata": {
    "collapsed": false,
    "ExecuteTime": {
     "end_time": "2024-06-13T15:22:52.681199900Z",
     "start_time": "2024-06-13T15:22:52.670718500Z"
    }
   },
   "id": "7c7582f1b0a8cc56"
  },
  {
   "cell_type": "code",
   "execution_count": 27,
   "outputs": [
    {
     "data": {
      "text/plain": "                    name             company         for_gender  rating  \\\n0          Angels' Share           By Kilian  for women and men    4.31   \n1                 My Way      Giorgio Armani          for women    3.57   \n2          Libre Intense  Yves Saint Laurent          for women    4.02   \n3        Dior Homme 2020      Christian Dior            for men    3.42   \n4  Acqua di Giò Profondo      Giorgio Armani            for men    4.03   \n\n   number_votes                                       main accords  \\\n0         682.0  {'woody': 100.0, 'sweet': 92.6987, 'warm spicy...   \n1        1471.0  {'white floral': 100.0, 'citrus': 60.4322, 'tu...   \n2         858.0  {'vanilla': 100.0, 'aromatic': 71.4216, 'sweet...   \n3        1402.0  {'woody': 100.0, 'musky': 72.7229, 'amber': 53...   \n4         869.0  {'aromatic': 100.0, 'marine': 93.2493, 'citrus...   \n\n                                           longevity  \\\n0  {'very weak': 21, 'weak': 17, 'moderate': 107,...   \n1  {'very weak': 49, 'weak': 84, 'moderate': 200,...   \n2  {'very weak': 24, 'weak': 12, 'moderate': 103,...   \n3  {'very weak': 125, 'weak': 83, 'moderate': 174...   \n4  {'very weak': 59, 'weak': 66, 'moderate': 188,...   \n\n                                             sillage  \\\n0  {'intimate': 40, 'moderate': 187, 'strong': 15...   \n1  {'intimate': 127, 'moderate': 322, 'strong': 2...   \n2  {'intimate': 39, 'moderate': 155, 'strong': 23...   \n3  {'intimate': 214, 'moderate': 370, 'strong': 1...   \n4  {'intimate': 115, 'moderate': 333, 'strong': 1...   \n\n                                         gender_vote  \\\n0  {'female': 40, 'more female': 39, 'unisex': 22...   \n1  {'female': 349, 'more female': 21, 'unisex': 4...   \n2  {'female': 162, 'more female': 91, 'unisex': 7...   \n3  {'female': 3, 'more female': 1, 'unisex': 17, ...   \n4  {'female': 3, 'more female': 0, 'unisex': 5, '...   \n\n                                         price value  ...  Narcissus  \\\n0  {'way overpriced': 64, 'overpriced': 143, 'ok'...  ...          0   \n1  {'way overpriced': 38, 'overpriced': 121, 'ok'...  ...          0   \n2  {'way overpriced': 11, 'overpriced': 59, 'ok':...  ...          0   \n3  {'way overpriced': 31, 'overpriced': 59, 'ok':...  ...          0   \n4  {'way overpriced': 32, 'overpriced': 84, 'ok':...  ...          0   \n\n   Cinnamon  French labdanum  Tea  Verbena  Java vetiver oil  Oakmoss  \\\n0         1                0    0        0                 0        0   \n1         0                0    0        0                 0        0   \n2         0                0    0        0                 0        0   \n3         0                0    0        0                 0        0   \n4         0                0    0        0                 0        0   \n\n   Lemongrass  Myrhh  Fig Nectar  \n0           0      0           0  \n1           0      0           0  \n2           0      0           0  \n3           0      0           0  \n4           0      0           0  \n\n[5 rows x 501 columns]",
      "text/html": "<div>\n<style scoped>\n    .dataframe tbody tr th:only-of-type {\n        vertical-align: middle;\n    }\n\n    .dataframe tbody tr th {\n        vertical-align: top;\n    }\n\n    .dataframe thead th {\n        text-align: right;\n    }\n</style>\n<table border=\"1\" class=\"dataframe\">\n  <thead>\n    <tr style=\"text-align: right;\">\n      <th></th>\n      <th>name</th>\n      <th>company</th>\n      <th>for_gender</th>\n      <th>rating</th>\n      <th>number_votes</th>\n      <th>main accords</th>\n      <th>longevity</th>\n      <th>sillage</th>\n      <th>gender_vote</th>\n      <th>price value</th>\n      <th>...</th>\n      <th>Narcissus</th>\n      <th>Cinnamon</th>\n      <th>French labdanum</th>\n      <th>Tea</th>\n      <th>Verbena</th>\n      <th>Java vetiver oil</th>\n      <th>Oakmoss</th>\n      <th>Lemongrass</th>\n      <th>Myrhh</th>\n      <th>Fig Nectar</th>\n    </tr>\n  </thead>\n  <tbody>\n    <tr>\n      <th>0</th>\n      <td>Angels' Share</td>\n      <td>By Kilian</td>\n      <td>for women and men</td>\n      <td>4.31</td>\n      <td>682.0</td>\n      <td>{'woody': 100.0, 'sweet': 92.6987, 'warm spicy...</td>\n      <td>{'very weak': 21, 'weak': 17, 'moderate': 107,...</td>\n      <td>{'intimate': 40, 'moderate': 187, 'strong': 15...</td>\n      <td>{'female': 40, 'more female': 39, 'unisex': 22...</td>\n      <td>{'way overpriced': 64, 'overpriced': 143, 'ok'...</td>\n      <td>...</td>\n      <td>0</td>\n      <td>1</td>\n      <td>0</td>\n      <td>0</td>\n      <td>0</td>\n      <td>0</td>\n      <td>0</td>\n      <td>0</td>\n      <td>0</td>\n      <td>0</td>\n    </tr>\n    <tr>\n      <th>1</th>\n      <td>My Way</td>\n      <td>Giorgio Armani</td>\n      <td>for women</td>\n      <td>3.57</td>\n      <td>1471.0</td>\n      <td>{'white floral': 100.0, 'citrus': 60.4322, 'tu...</td>\n      <td>{'very weak': 49, 'weak': 84, 'moderate': 200,...</td>\n      <td>{'intimate': 127, 'moderate': 322, 'strong': 2...</td>\n      <td>{'female': 349, 'more female': 21, 'unisex': 4...</td>\n      <td>{'way overpriced': 38, 'overpriced': 121, 'ok'...</td>\n      <td>...</td>\n      <td>0</td>\n      <td>0</td>\n      <td>0</td>\n      <td>0</td>\n      <td>0</td>\n      <td>0</td>\n      <td>0</td>\n      <td>0</td>\n      <td>0</td>\n      <td>0</td>\n    </tr>\n    <tr>\n      <th>2</th>\n      <td>Libre Intense</td>\n      <td>Yves Saint Laurent</td>\n      <td>for women</td>\n      <td>4.02</td>\n      <td>858.0</td>\n      <td>{'vanilla': 100.0, 'aromatic': 71.4216, 'sweet...</td>\n      <td>{'very weak': 24, 'weak': 12, 'moderate': 103,...</td>\n      <td>{'intimate': 39, 'moderate': 155, 'strong': 23...</td>\n      <td>{'female': 162, 'more female': 91, 'unisex': 7...</td>\n      <td>{'way overpriced': 11, 'overpriced': 59, 'ok':...</td>\n      <td>...</td>\n      <td>0</td>\n      <td>0</td>\n      <td>0</td>\n      <td>0</td>\n      <td>0</td>\n      <td>0</td>\n      <td>0</td>\n      <td>0</td>\n      <td>0</td>\n      <td>0</td>\n    </tr>\n    <tr>\n      <th>3</th>\n      <td>Dior Homme 2020</td>\n      <td>Christian Dior</td>\n      <td>for men</td>\n      <td>3.42</td>\n      <td>1402.0</td>\n      <td>{'woody': 100.0, 'musky': 72.7229, 'amber': 53...</td>\n      <td>{'very weak': 125, 'weak': 83, 'moderate': 174...</td>\n      <td>{'intimate': 214, 'moderate': 370, 'strong': 1...</td>\n      <td>{'female': 3, 'more female': 1, 'unisex': 17, ...</td>\n      <td>{'way overpriced': 31, 'overpriced': 59, 'ok':...</td>\n      <td>...</td>\n      <td>0</td>\n      <td>0</td>\n      <td>0</td>\n      <td>0</td>\n      <td>0</td>\n      <td>0</td>\n      <td>0</td>\n      <td>0</td>\n      <td>0</td>\n      <td>0</td>\n    </tr>\n    <tr>\n      <th>4</th>\n      <td>Acqua di Giò Profondo</td>\n      <td>Giorgio Armani</td>\n      <td>for men</td>\n      <td>4.03</td>\n      <td>869.0</td>\n      <td>{'aromatic': 100.0, 'marine': 93.2493, 'citrus...</td>\n      <td>{'very weak': 59, 'weak': 66, 'moderate': 188,...</td>\n      <td>{'intimate': 115, 'moderate': 333, 'strong': 1...</td>\n      <td>{'female': 3, 'more female': 0, 'unisex': 5, '...</td>\n      <td>{'way overpriced': 32, 'overpriced': 84, 'ok':...</td>\n      <td>...</td>\n      <td>0</td>\n      <td>0</td>\n      <td>0</td>\n      <td>0</td>\n      <td>0</td>\n      <td>0</td>\n      <td>0</td>\n      <td>0</td>\n      <td>0</td>\n      <td>0</td>\n    </tr>\n  </tbody>\n</table>\n<p>5 rows × 501 columns</p>\n</div>"
     },
     "execution_count": 27,
     "metadata": {},
     "output_type": "execute_result"
    }
   ],
   "source": [
    "df_combined.head()"
   ],
   "metadata": {
    "collapsed": false,
    "ExecuteTime": {
     "end_time": "2024-06-13T15:23:05.131888600Z",
     "start_time": "2024-06-13T15:23:05.118502600Z"
    }
   },
   "id": "7f1c15985104c925"
  }
 ],
 "metadata": {
  "kernelspec": {
   "display_name": "Python 3",
   "language": "python",
   "name": "python3"
  },
  "language_info": {
   "codemirror_mode": {
    "name": "ipython",
    "version": 2
   },
   "file_extension": ".py",
   "mimetype": "text/x-python",
   "name": "python",
   "nbconvert_exporter": "python",
   "pygments_lexer": "ipython2",
   "version": "2.7.6"
  }
 },
 "nbformat": 4,
 "nbformat_minor": 5
}
